{
 "cells": [
  {
   "cell_type": "code",
   "execution_count": 1,
   "metadata": {},
   "outputs": [],
   "source": [
    "import numpy as np\n",
    "import matplotlib.pyplot as plt"
   ]
  },
  {
   "cell_type": "code",
   "execution_count": 2,
   "metadata": {},
   "outputs": [],
   "source": [
    "# Generate some sample data\n",
    "data = np.random.normal(0, 1, 100)\n",
    "\n",
    "# Set the bandwidth\n",
    "h = 0.5\n"
   ]
  },
  {
   "cell_type": "code",
   "execution_count": 3,
   "metadata": {
    "collapsed": true
   },
   "outputs": [
    {
     "data": {
      "text/plain": [
       "array([-0.27479265,  1.92351594, -0.00617873, -0.74396082, -0.5290315 ,\n",
       "        1.26059347, -0.64765078,  1.39640239,  1.31452608,  0.26262176,\n",
       "        0.14149806, -0.10630187, -0.36705327, -1.83642778,  0.35922678,\n",
       "       -0.58248385, -0.38537749, -1.32961364,  1.76043083, -0.30589867,\n",
       "       -0.48862603,  0.02291539,  0.0444412 , -0.51977375, -0.08465592,\n",
       "        0.07318178, -0.10642887,  0.42174724, -0.93933546,  0.7132552 ,\n",
       "        0.37854916,  0.54632161,  0.12969478,  1.11097562,  1.21809035,\n",
       "       -0.71426595,  0.80946117,  1.1395765 ,  0.04584529, -0.11076834,\n",
       "        0.46231082, -0.04228868, -0.08716656, -0.3986491 , -0.26208967,\n",
       "        0.15277652,  0.1996756 , -0.49897552, -0.80822332,  0.16587877,\n",
       "       -0.94213093,  0.017599  ,  1.76578537,  0.25772724, -0.55297116,\n",
       "        0.50886064, -0.35361601,  0.37932796,  0.71482347, -0.4872127 ,\n",
       "        1.01225505, -1.01426981,  0.2342132 , -1.05165456,  0.72653148,\n",
       "        2.25592402,  1.71630383,  1.23553149, -0.34064691,  0.42388323,\n",
       "        0.88072631, -1.25564557,  0.08958833, -0.4897533 ,  0.90521422,\n",
       "       -1.26027208,  0.84377473,  0.38970975, -0.68473091,  0.70578675,\n",
       "       -0.22778327,  1.91571228,  0.18135922, -0.94623162, -0.79952101,\n",
       "        0.4996823 ,  0.09465972, -0.89496738,  0.77609198, -0.32989827,\n",
       "        0.2436946 , -0.08861724, -0.5097368 , -0.09175322, -1.48121253,\n",
       "       -0.62547317, -1.24143963,  0.80511604,  1.86967476,  0.5911098 ])"
      ]
     },
     "execution_count": 3,
     "metadata": {},
     "output_type": "execute_result"
    }
   ],
   "source": [
    "data"
   ]
  },
  {
   "cell_type": "code",
   "execution_count": 4,
   "metadata": {},
   "outputs": [],
   "source": [
    "# Define the Gaussian kernel function\n",
    "def gaussian_kernel(x):\n",
    "    return (1 / np.sqrt(2 * np.pi)) * np.exp(-0.5 * x**2)"
   ]
  },
  {
   "cell_type": "code",
   "execution_count": null,
   "metadata": {},
   "outputs": [],
   "source": [
    "\n",
    "\n",
    "\n",
    "\n",
    "\n",
    "# Calculate the KDE at each point\n",
    "x_grid = np.linspace(-5, 5, 100)\n",
    "kde = np.zeros_like(x_grid)\n",
    "for i, x in enumerate(x_grid):\n",
    "    kde[i] = np.sum(gaussian_kernel((x - data) / h))\n",
    "\n",
    "# Normalize the KDE\n",
    "kde /= (len(data) * h)\n",
    "\n",
    "# Plot the results\n",
    "plt.plot(x_grid, kde)\n",
    "plt.hist(data, density=True, alpha=0.5)\n",
    "plt.show()\n"
   ]
  }
 ],
 "metadata": {
  "kernelspec": {
   "display_name": "Python 3 (ipykernel)",
   "language": "python",
   "name": "python3"
  },
  "language_info": {
   "codemirror_mode": {
    "name": "ipython",
    "version": 3
   },
   "file_extension": ".py",
   "mimetype": "text/x-python",
   "name": "python",
   "nbconvert_exporter": "python",
   "pygments_lexer": "ipython3",
   "version": "3.8.13"
  }
 },
 "nbformat": 4,
 "nbformat_minor": 2
}
